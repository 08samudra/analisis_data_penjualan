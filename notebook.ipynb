{
  "cells": [
    {
      "cell_type": "markdown",
      "metadata": {
        "id": "H9wADwK78DCz"
      },
      "source": [
        "# Proyek Analisis Data: [E-Commerce]\n",
        "- **Nama:** [Yoga Samudra]\n",
        "- **Email:** [08samudra@gmail.com]\n",
        "- **ID Dicoding:** [08samudra]"
      ]
    },
    {
      "cell_type": "markdown",
      "metadata": {
        "id": "eE0raob58DC0"
      },
      "source": [
        "## Menentukan Pertanyaan Bisnis"
      ]
    },
    {
      "cell_type": "markdown",
      "metadata": {
        "id": "GmQeQ5YF8DC0"
      },
      "source": [
        "- Kota mana yang meghasilkan nilai penjualan tertinggi dan menyumbang setidaknya 10% dari total nilai transaksi penjualan secara keseluruhan?\n",
        "- Di kota tersebut, produk apa yang paling dominan, yaitu yang menyumbang minimal 50% dari total nilai transaksi penjualan di kota tersebut?"
      ]
    },
    {
      "cell_type": "markdown",
      "metadata": {
        "id": "H-z4QGlO8DC1"
      },
      "source": [
        "## Import Semua Packages/Library yang Digunakan"
      ]
    },
    {
      "cell_type": "markdown",
      "metadata": {
        "id": "5TPSTGgmZ0wa"
      },
      "source": []
    },
    {
      "cell_type": "code",
      "execution_count": 4,
      "metadata": {
        "colab": {
          "base_uri": "https://localhost:8080/"
        },
        "id": "FVYwaObI8DC1",
        "outputId": "70032e7b-a454-4a99-9220-ba1f739dd64e"
      },
      "outputs": [
        {
          "name": "stdout",
          "output_type": "stream",
          "text": [
            "Requirement already satisfied: squarify in c:\\users\\yoga samudra\\appdata\\local\\programs\\python\\python312\\lib\\site-packages (0.4.4)\n",
            "Note: you may need to restart the kernel to use updated packages.\n"
          ]
        },
        {
          "name": "stderr",
          "output_type": "stream",
          "text": [
            "\n",
            "[notice] A new release of pip is available: 24.0 -> 25.1.1\n",
            "[notice] To update, run: python.exe -m pip install --upgrade pip\n"
          ]
        }
      ],
      "source": [
        "%pip install squarify"
      ]
    },
    {
      "cell_type": "code",
      "execution_count": 9,
      "metadata": {
        "id": "Lm4ltMu-afgs"
      },
      "outputs": [
        {
          "ename": "ModuleNotFoundError",
          "evalue": "No module named 'seaborn'",
          "output_type": "error",
          "traceback": [
            "\u001b[31m---------------------------------------------------------------------------\u001b[39m",
            "\u001b[31mModuleNotFoundError\u001b[39m                       Traceback (most recent call last)",
            "\u001b[36mCell\u001b[39m\u001b[36m \u001b[39m\u001b[32mIn[9]\u001b[39m\u001b[32m, line 3\u001b[39m\n\u001b[32m      1\u001b[39m \u001b[38;5;28;01mimport\u001b[39;00m\u001b[38;5;250m \u001b[39m\u001b[34;01msquarify\u001b[39;00m\n\u001b[32m      2\u001b[39m \u001b[38;5;28;01mimport\u001b[39;00m\u001b[38;5;250m \u001b[39m\u001b[34;01mpandas\u001b[39;00m\u001b[38;5;250m \u001b[39m\u001b[38;5;28;01mas\u001b[39;00m\u001b[38;5;250m \u001b[39m\u001b[34;01mpd\u001b[39;00m\n\u001b[32m----> \u001b[39m\u001b[32m3\u001b[39m \u001b[38;5;28;01mimport\u001b[39;00m\u001b[38;5;250m \u001b[39m\u001b[34;01mseaborn\u001b[39;00m\u001b[38;5;250m \u001b[39m\u001b[38;5;28;01mas\u001b[39;00m\u001b[38;5;250m \u001b[39m\u001b[34;01msns\u001b[39;00m\n\u001b[32m      4\u001b[39m \u001b[38;5;28;01mimport\u001b[39;00m\u001b[38;5;250m \u001b[39m\u001b[34;01mmatplotlib\u001b[39;00m\u001b[34;01m.\u001b[39;00m\u001b[34;01mpyplot\u001b[39;00m\u001b[38;5;250m \u001b[39m\u001b[38;5;28;01mas\u001b[39;00m\u001b[38;5;250m \u001b[39m\u001b[34;01mplt\u001b[39;00m\n",
            "\u001b[31mModuleNotFoundError\u001b[39m: No module named 'seaborn'"
          ]
        }
      ],
      "source": [
        "import squarify\n",
        "import pandas as pd\n",
        "import seaborn as sns\n",
        "import matplotlib.pyplot as plt"
      ]
    },
    {
      "cell_type": "markdown",
      "metadata": {
        "id": "5DcHjEn1aefM"
      },
      "source": []
    },
    {
      "cell_type": "markdown",
      "metadata": {
        "id": "h_Sh51Xy8DC1"
      },
      "source": [
        "## 1. Data Wrangling"
      ]
    },
    {
      "cell_type": "markdown",
      "metadata": {
        "id": "sXU2GBYu8DC1"
      },
      "source": [
        "### 1.1 Gathering Data"
      ]
    },
    {
      "cell_type": "code",
      "execution_count": 7,
      "metadata": {
        "id": "zjCBk1BI8DC1"
      },
      "outputs": [],
      "source": [
        "customers = pd.read_csv(\"datasets/customers_dataset.csv\")\n",
        "geolocation = pd.read_csv(\"datasets/geolocation_dataset.csv\")\n",
        "order_items = pd.read_csv(\"datasets/order_items_dataset.csv\")\n",
        "order_payments = pd.read_csv(\"datasets/order_payments_dataset.csv\")\n",
        "order_reviews = pd.read_csv(\"datasets/order_reviews_dataset.csv\")\n",
        "orders = pd.read_csv(\"datasets/orders_dataset.csv\")\n",
        "product_category_name_translation = pd.read_csv(\"datasets/product_category_name_translation.csv\")\n",
        "products = pd.read_csv(\"datasets/products_dataset.csv\")\n",
        "sellers = pd.read_csv(\"datasets/sellers_dataset.csv\")"
      ]
    },
    {
      "cell_type": "markdown",
      "metadata": {
        "id": "MMi6xGaDkbCi"
      },
      "source": [
        "**Insight:**\n",
        "Berdasarkan data yang diimport, kita akan menggunakan dataset sebagai berikut, untuk menjadi pertanyaan yang telah didefinisikan.\n",
        "- customers,\n",
        "- order_items,\n",
        "- orders,\n",
        "- order_payments, dan\n",
        "- products"
      ]
    },
    {
      "cell_type": "markdown",
      "metadata": {
        "id": "FHSiqaZp8DC1"
      },
      "source": [
        "### 1.2 Assessing Data"
      ]
    },
    {
      "cell_type": "markdown",
      "metadata": {
        "id": "8bwjYFYaUofV"
      },
      "source": [
        "Memeriksa data sperti:\n",
        "- Informasi Tipe Data\n",
        "- Data Duplikat\n",
        "- Nilai yang Hilang"
      ]
    },
    {
      "cell_type": "code",
      "execution_count": 8,
      "metadata": {
        "colab": {
          "base_uri": "https://localhost:8080/"
        },
        "id": "cYkzJ6lI5jJf",
        "outputId": "1f4c21b9-9461-4423-c1a2-31cd692ee6a6"
      },
      "outputs": [
        {
          "name": "stdout",
          "output_type": "stream",
          "text": [
            "--- Memulai Proses Assessing Data untuk DataFrame Pilihan ---\n",
            "------------------------------------------------------------\n",
            "\n",
            "===== Assessing DataFrame: customers =====\n",
            "----------------------------------------------------------------------\n",
            "\n",
            "--- 1. Informasi Tipe Data (df.info()) ---\n",
            "<class 'pandas.core.frame.DataFrame'>\n",
            "RangeIndex: 99441 entries, 0 to 99440\n",
            "Data columns (total 5 columns):\n",
            " #   Column                    Non-Null Count  Dtype \n",
            "---  ------                    --------------  ----- \n",
            " 0   customer_id               99441 non-null  object\n",
            " 1   customer_unique_id        99441 non-null  object\n",
            " 2   customer_zip_code_prefix  99441 non-null  int64 \n",
            " 3   customer_city             99441 non-null  object\n",
            " 4   customer_state            99441 non-null  object\n",
            "dtypes: int64(1), object(4)\n",
            "memory usage: 3.8+ MB\n",
            "\n",
            "--- 2. Jumlah Baris Duplikat Penuh: 0 ---\n",
            "  Tidak ada baris duplikat di DataFrame 'customers'.\n",
            "\n",
            "--- 3. Jumlah dan Persentase Nilai yang Hilang per Kolom ---\n",
            "  Tidak ada nilai yang hilang di DataFrame 'customers'.\n",
            "\n",
            "============================================================\n",
            "\n",
            "===== Assessing DataFrame: order_items =====\n",
            "----------------------------------------------------------------------\n",
            "\n",
            "--- 1. Informasi Tipe Data (df.info()) ---\n",
            "<class 'pandas.core.frame.DataFrame'>\n",
            "RangeIndex: 112650 entries, 0 to 112649\n",
            "Data columns (total 7 columns):\n",
            " #   Column               Non-Null Count   Dtype  \n",
            "---  ------               --------------   -----  \n",
            " 0   order_id             112650 non-null  object \n",
            " 1   order_item_id        112650 non-null  int64  \n",
            " 2   product_id           112650 non-null  object \n",
            " 3   seller_id            112650 non-null  object \n",
            " 4   shipping_limit_date  112650 non-null  object \n",
            " 5   price                112650 non-null  float64\n",
            " 6   freight_value        112650 non-null  float64\n",
            "dtypes: float64(2), int64(1), object(4)\n",
            "memory usage: 6.0+ MB\n",
            "\n",
            "--- 2. Jumlah Baris Duplikat Penuh: 0 ---\n",
            "  Tidak ada baris duplikat di DataFrame 'order_items'.\n",
            "\n",
            "--- 3. Jumlah dan Persentase Nilai yang Hilang per Kolom ---\n",
            "  Tidak ada nilai yang hilang di DataFrame 'order_items'.\n",
            "\n",
            "============================================================\n",
            "\n",
            "===== Assessing DataFrame: orders =====\n",
            "----------------------------------------------------------------------\n",
            "\n",
            "--- 1. Informasi Tipe Data (df.info()) ---\n",
            "<class 'pandas.core.frame.DataFrame'>\n",
            "RangeIndex: 99441 entries, 0 to 99440\n",
            "Data columns (total 8 columns):\n",
            " #   Column                         Non-Null Count  Dtype \n",
            "---  ------                         --------------  ----- \n",
            " 0   order_id                       99441 non-null  object\n",
            " 1   customer_id                    99441 non-null  object\n",
            " 2   order_status                   99441 non-null  object\n",
            " 3   order_purchase_timestamp       99441 non-null  object\n",
            " 4   order_approved_at              99281 non-null  object\n",
            " 5   order_delivered_carrier_date   97658 non-null  object\n",
            " 6   order_delivered_customer_date  96476 non-null  object\n",
            " 7   order_estimated_delivery_date  99441 non-null  object\n",
            "dtypes: object(8)\n",
            "memory usage: 6.1+ MB\n",
            "\n",
            "--- 2. Jumlah Baris Duplikat Penuh: 0 ---\n",
            "  Tidak ada baris duplikat di DataFrame 'orders'.\n",
            "\n",
            "--- 3. Jumlah dan Persentase Nilai yang Hilang per Kolom ---\n",
            "                               Jumlah Hilang  Persentase Hilang (%)\n",
            "order_delivered_customer_date           2965               2.981668\n",
            "order_delivered_carrier_date            1783               1.793023\n",
            "order_approved_at                        160               0.160899\n",
            "\n",
            "============================================================\n",
            "\n",
            "===== Assessing DataFrame: order_payments =====\n",
            "----------------------------------------------------------------------\n",
            "\n",
            "--- 1. Informasi Tipe Data (df.info()) ---\n",
            "<class 'pandas.core.frame.DataFrame'>\n",
            "RangeIndex: 103886 entries, 0 to 103885\n",
            "Data columns (total 5 columns):\n",
            " #   Column                Non-Null Count   Dtype  \n",
            "---  ------                --------------   -----  \n",
            " 0   order_id              103886 non-null  object \n",
            " 1   payment_sequential    103886 non-null  int64  \n",
            " 2   payment_type          103886 non-null  object \n",
            " 3   payment_installments  103886 non-null  int64  \n",
            " 4   payment_value         103886 non-null  float64\n",
            "dtypes: float64(1), int64(2), object(2)\n",
            "memory usage: 4.0+ MB\n",
            "\n",
            "--- 2. Jumlah Baris Duplikat Penuh: 0 ---\n",
            "  Tidak ada baris duplikat di DataFrame 'order_payments'.\n",
            "\n",
            "--- 3. Jumlah dan Persentase Nilai yang Hilang per Kolom ---\n",
            "  Tidak ada nilai yang hilang di DataFrame 'order_payments'.\n",
            "\n",
            "============================================================\n",
            "\n",
            "===== Assessing DataFrame: products =====\n",
            "----------------------------------------------------------------------\n",
            "\n",
            "--- 1. Informasi Tipe Data (df.info()) ---\n",
            "<class 'pandas.core.frame.DataFrame'>\n",
            "RangeIndex: 32951 entries, 0 to 32950\n",
            "Data columns (total 9 columns):\n",
            " #   Column                      Non-Null Count  Dtype  \n",
            "---  ------                      --------------  -----  \n",
            " 0   product_id                  32951 non-null  object \n",
            " 1   product_category_name       32341 non-null  object \n",
            " 2   product_name_lenght         32341 non-null  float64\n",
            " 3   product_description_lenght  32341 non-null  float64\n",
            " 4   product_photos_qty          32341 non-null  float64\n",
            " 5   product_weight_g            32949 non-null  float64\n",
            " 6   product_length_cm           32949 non-null  float64\n",
            " 7   product_height_cm           32949 non-null  float64\n",
            " 8   product_width_cm            32949 non-null  float64\n",
            "dtypes: float64(7), object(2)\n",
            "memory usage: 2.3+ MB\n",
            "\n",
            "--- 2. Jumlah Baris Duplikat Penuh: 0 ---\n",
            "  Tidak ada baris duplikat di DataFrame 'products'.\n",
            "\n",
            "--- 3. Jumlah dan Persentase Nilai yang Hilang per Kolom ---\n",
            "                            Jumlah Hilang  Persentase Hilang (%)\n",
            "product_category_name                 610               1.851234\n",
            "product_name_lenght                   610               1.851234\n",
            "product_description_lenght            610               1.851234\n",
            "product_photos_qty                    610               1.851234\n",
            "product_weight_g                        2               0.006070\n",
            "product_length_cm                       2               0.006070\n",
            "product_height_cm                       2               0.006070\n",
            "product_width_cm                        2               0.006070\n",
            "\n",
            "============================================================\n",
            "\n",
            "--- Proses Assessing Data Selesai ---\n"
          ]
        }
      ],
      "source": [
        "dataframes_to_assess = {\n",
        "    \"customers\": customers,\n",
        "    \"order_items\": order_items,\n",
        "    \"orders\": orders,\n",
        "    \"order_payments\": order_payments,\n",
        "    \"products\": products\n",
        "}\n",
        "\n",
        "print(\"--- Memulai Proses Assessing Data untuk DataFrame Pilihan ---\")\n",
        "print(\"-\" * 60) # Garis pemisah\n",
        "\n",
        "for df_name, df_data in dataframes_to_assess.items():\n",
        "    print(f\"\\n===== Assessing DataFrame: {df_name} =====\")\n",
        "    print(\"----------------------------------------------------------------------\")\n",
        "\n",
        "    # 1. Periksa Informasi Tipe Data\n",
        "    print(\"\\n--- 1. Informasi Tipe Data (df.info()) ---\")\n",
        "    df_data.info()\n",
        "\n",
        "    # 2. Periksa Data Duplikat (Baris Duplikat Penuh)\n",
        "    num_duplicates = df_data.duplicated().sum()\n",
        "    print(f\"\\n--- 2. Jumlah Baris Duplikat Penuh: {num_duplicates} ---\")\n",
        "    if num_duplicates > 0:\n",
        "        print(f\"  Ditemukan {num_duplicates} baris duplikat di DataFrame '{df_name}'.\")\n",
        "    else:\n",
        "        print(f\"  Tidak ada baris duplikat di DataFrame '{df_name}'.\")\n",
        "\n",
        "    # 3. Periksa Nilai yang Hilang (Jumlah dan Persentase)\n",
        "    missing_values = df_data.isnull().sum()\n",
        "    missing_percentage = (missing_values / len(df_data)) * 100\n",
        "\n",
        "    print(\"\\n--- 3. Jumlah dan Persentase Nilai yang Hilang per Kolom ---\")\n",
        "    if missing_values.sum() == 0:\n",
        "        print(f\"  Tidak ada nilai yang hilang di DataFrame '{df_name}'.\")\n",
        "    else:\n",
        "        missing_info = pd.DataFrame({\n",
        "            'Jumlah Hilang': missing_values,\n",
        "            'Persentase Hilang (%)': missing_percentage\n",
        "        })\n",
        "        print(missing_info[missing_info['Jumlah Hilang'] > 0].sort_values(by='Persentase Hilang (%)', ascending=False))\n",
        "\n",
        "    print(\"\\n\" + \"=\" * 60) # Garis pemisah antar DataFrame\n",
        "\n",
        "print(\"\\n--- Proses Assessing Data Selesai ---\")"
      ]
    },
    {
      "cell_type": "markdown",
      "metadata": {
        "id": "7dtxhAPrkhPL"
      },
      "source": [
        "**Insight: Assessing Data**\n",
        "- Customers DataFrame: Data pelanggan bersih dan lengkap. Tidak ada nilai yang hilang atau duplikat, dan semua tipe data sudah sesuai. Kolom lokasi (customer_city, customer_state) siap digunakan.\n",
        "\n",
        "- Order Items DataFrame: Data item pesanan juga sangat bersih. Tidak ada nilai yang hilang atau duplikat. Kolom price dan freight_value sudah dalam tipe data numerik yang tepat untuk perhitungan penjualan.\n",
        "\n",
        "- Orders DataFrame: DataFrame pesanan memiliki sedikit nilai hilang pada kolom terkait pengiriman (order_delivered_customer_date, order_delivered_carrier_date, order_approved_at). Meskipun persentasenya kecil (di bawah 3%), kolom tanggal ini saat ini berjenis object dan perlu diubah menjadi datetime untuk analisis berbasis waktu atau filter status pesanan yang valid.\n",
        "\n",
        "- Order Payments DataFrame: Data pembayaran bersih dan lengkap. Tidak ada nilai yang hilang atau duplikat. Kolom payment_value sudah berjenis numerik, siap untuk perhitungan total transaksi.\n",
        "\n",
        "- Products DataFrame: DataFrame produk memiliki nilai hilang signifikan pada product_category_name (sekitar 1.85%) dan beberapa kolom dimensi produk lainnya (product_name_lenght, product_description_lenght, product_photos_qty) yang jumlahnya sama. Ini berarti ada produk tanpa kategori atau deskripsi yang terdefinisi. Selain itu, ada sangat sedikit nilai hilang di kolom dimensi fisik produk (product_weight_g, product_length_cm, dll.) yang dapat diabaikan atau diisi dengan mudah."
      ]
    },
    {
      "cell_type": "markdown",
      "metadata": {
        "id": "EhN5R4hr8DC1"
      },
      "source": [
        "### 1.3 Cleaning Data"
      ]
    },
    {
      "cell_type": "markdown",
      "metadata": {
        "id": "keMUcZXdWSk8"
      },
      "source": [
        "1.3.1 Filtering DataFrame orders untuk hanya menyertakan transaksi yang berhasil."
      ]
    },
    {
      "cell_type": "code",
      "execution_count": 9,
      "metadata": {
        "colab": {
          "base_uri": "https://localhost:8080/"
        },
        "id": "jVnYpprE9Evz",
        "outputId": "eb471544-9e44-41e6-f5c0-a759d0a7e3dd"
      },
      "outputs": [
        {
          "name": "stdout",
          "output_type": "stream",
          "text": [
            "\n",
            "===== 1: Memfilter Dataset 'orders' =====\n",
            "--- Mengonversi Kolom Tanggal ke Tipe Datetime & Memfilter Status 'delivered' ---\n",
            "  Jumlah order sebelum filter: 99441\n",
            "  Jumlah order 'delivered' setelah filter: 96478\n",
            "  Order yang difilter (non-delivered): 2963 baris.\n",
            "\n",
            "--- Info Singkat 'orders_filtered' setelah filter ---\n",
            "<class 'pandas.core.frame.DataFrame'>\n",
            "Index: 96478 entries, 0 to 99440\n",
            "Data columns (total 8 columns):\n",
            " #   Column                         Non-Null Count  Dtype         \n",
            "---  ------                         --------------  -----         \n",
            " 0   order_id                       96478 non-null  object        \n",
            " 1   customer_id                    96478 non-null  object        \n",
            " 2   order_status                   96478 non-null  object        \n",
            " 3   order_purchase_timestamp       96478 non-null  datetime64[ns]\n",
            " 4   order_approved_at              96464 non-null  datetime64[ns]\n",
            " 5   order_delivered_carrier_date   96476 non-null  datetime64[ns]\n",
            " 6   order_delivered_customer_date  96470 non-null  datetime64[ns]\n",
            " 7   order_estimated_delivery_date  96478 non-null  datetime64[ns]\n",
            "dtypes: datetime64[ns](5), object(3)\n",
            "memory usage: 6.6+ MB\n"
          ]
        }
      ],
      "source": [
        "## 1: Memfilter Dataset 'orders'\n",
        "print(\"\\n===== 1: Memfilter Dataset 'orders' =====\")\n",
        "print(\"--- Mengonversi Kolom Tanggal ke Tipe Datetime & Memfilter Status 'delivered' ---\")\n",
        "\n",
        "# Konversi kolom tanggal ke tipe datetime untuk memudahkan filter dan analisis waktu\n",
        "date_columns = [\n",
        "    'order_purchase_timestamp',\n",
        "    'order_approved_at',\n",
        "    'order_delivered_carrier_date',\n",
        "    'order_delivered_customer_date',\n",
        "    'order_estimated_delivery_date'\n",
        "]\n",
        "\n",
        "for col in date_columns:\n",
        "    orders[col] = pd.to_datetime(orders[col], errors='coerce')\n",
        "\n",
        "\n",
        "# Filter hanya order yang berstatus 'delivered'\n",
        "original_order_count = len(orders)\n",
        "orders_filtered = orders[orders['order_status'] == 'delivered'].copy()\n",
        "delivered_order_count = len(orders_filtered)\n",
        "\n",
        "print(f\"  Jumlah order sebelum filter: {original_order_count}\")\n",
        "print(f\"  Jumlah order 'delivered' setelah filter: {delivered_order_count}\")\n",
        "print(f\"  Order yang difilter (non-delivered): {original_order_count - delivered_order_count} baris.\")\n",
        "\n",
        "# Verifikasi singkat setelah filter\n",
        "print(\"\\n--- Info Singkat 'orders_filtered' setelah filter ---\")\n",
        "orders_filtered.info()\n"
      ]
    },
    {
      "cell_type": "markdown",
      "metadata": {
        "id": "RsZkSgU9b8Y8"
      },
      "source": [
        "1.3.2 Menggabungkan (Merging) semua DataFrame yang diperlukan ke dalam satu tabel komprehensif."
      ]
    },
    {
      "cell_type": "code",
      "execution_count": 10,
      "metadata": {
        "colab": {
          "base_uri": "https://localhost:8080/"
        },
        "id": "Rp6qUB3jckM2",
        "outputId": "be99e456-7ce1-4e62-888c-547a7772b924"
      },
      "outputs": [
        {
          "name": "stdout",
          "output_type": "stream",
          "text": [
            "\n",
            "\n",
            "===== 2: Menggabungkan Dataset-Dataset =====\n",
            "--- Menggabungkan orders_filtered, order_items, order_payments, customers, products ---\n",
            "  Setelah gabung 'orders_filtered' & 'order_items': 110197 baris.\n",
            "  Setelah gabung dengan 'order_payments': 115035 baris.\n",
            "  Setelah gabung dengan 'customers': 115035 baris.\n",
            "  Setelah gabung dengan 'products': 115035 baris.\n",
            "\n",
            "--- Informasi Gabungan DataFrame Setelah Merging ---\n",
            "<class 'pandas.core.frame.DataFrame'>\n",
            "RangeIndex: 115035 entries, 0 to 115034\n",
            "Data columns (total 30 columns):\n",
            " #   Column                         Non-Null Count   Dtype         \n",
            "---  ------                         --------------   -----         \n",
            " 0   order_id                       115035 non-null  object        \n",
            " 1   customer_id                    115035 non-null  object        \n",
            " 2   order_status                   115035 non-null  object        \n",
            " 3   order_purchase_timestamp       115035 non-null  datetime64[ns]\n",
            " 4   order_approved_at              115020 non-null  datetime64[ns]\n",
            " 5   order_delivered_carrier_date   115033 non-null  datetime64[ns]\n",
            " 6   order_delivered_customer_date  115027 non-null  datetime64[ns]\n",
            " 7   order_estimated_delivery_date  115035 non-null  datetime64[ns]\n",
            " 8   order_item_id                  115035 non-null  int64         \n",
            " 9   product_id                     115035 non-null  object        \n",
            " 10  seller_id                      115035 non-null  object        \n",
            " 11  shipping_limit_date            115035 non-null  object        \n",
            " 12  price                          115035 non-null  float64       \n",
            " 13  freight_value                  115035 non-null  float64       \n",
            " 14  payment_sequential             115035 non-null  int64         \n",
            " 15  payment_type                   115035 non-null  object        \n",
            " 16  payment_installments           115035 non-null  int64         \n",
            " 17  payment_value                  115035 non-null  float64       \n",
            " 18  customer_unique_id             115035 non-null  object        \n",
            " 19  customer_zip_code_prefix       115035 non-null  int64         \n",
            " 20  customer_city                  115035 non-null  object        \n",
            " 21  customer_state                 115035 non-null  object        \n",
            " 22  product_category_name          113407 non-null  object        \n",
            " 23  product_name_lenght            113407 non-null  float64       \n",
            " 24  product_description_lenght     113407 non-null  float64       \n",
            " 25  product_photos_qty             113407 non-null  float64       \n",
            " 26  product_weight_g               115015 non-null  float64       \n",
            " 27  product_length_cm              115015 non-null  float64       \n",
            " 28  product_height_cm              115015 non-null  float64       \n",
            " 29  product_width_cm               115015 non-null  float64       \n",
            "dtypes: datetime64[ns](5), float64(10), int64(4), object(11)\n",
            "memory usage: 26.3+ MB\n"
          ]
        }
      ],
      "source": [
        "## 2: Menggabungkan Dataset-Dataset yang Relevan\n",
        "print(\"\\n\\n===== 2: Menggabungkan Dataset-Dataset =====\")\n",
        "print(\"--- Menggabungkan orders_filtered, order_items, order_payments, customers, products ---\")\n",
        "\n",
        "# Gabungkan orders_filtered dengan order_items\n",
        "df_merged = pd.merge(orders_filtered, order_items, on='order_id', how='inner')\n",
        "print(f\"  Setelah gabung 'orders_filtered' & 'order_items': {len(df_merged)} baris.\")\n",
        "\n",
        "# Gabungkan dengan order_payments\n",
        "df_merged = pd.merge(df_merged, order_payments, on='order_id', how='inner')\n",
        "print(f\"  Setelah gabung dengan 'order_payments': {len(df_merged)} baris.\")\n",
        "\n",
        "# Gabungkan dengan customers\n",
        "df_merged = pd.merge(df_merged, customers, on='customer_id', how='inner')\n",
        "print(f\"  Setelah gabung dengan 'customers': {len(df_merged)} baris.\")\n",
        "\n",
        "# Gabungkan dengan products\n",
        "df_merged = pd.merge(df_merged, products, on='product_id', how='inner')\n",
        "print(f\"  Setelah gabung dengan 'products': {len(df_merged)} baris.\")\n",
        "\n",
        "print(\"\\n--- Informasi Gabungan DataFrame Setelah Merging ---\")\n",
        "df_merged.info()"
      ]
    },
    {
      "cell_type": "markdown",
      "metadata": {
        "id": "hNQk1b5vdMrs"
      },
      "source": [
        "1.3.3 Memilih kolom-kolom spesifik yang relevan dari hasil gabungan."
      ]
    },
    {
      "cell_type": "code",
      "execution_count": 11,
      "metadata": {
        "colab": {
          "base_uri": "https://localhost:8080/"
        },
        "id": "lE_GAAWBdUag",
        "outputId": "41b6c64a-e52d-4762-c4f9-ee16307610f5"
      },
      "outputs": [
        {
          "name": "stdout",
          "output_type": "stream",
          "text": [
            "\n",
            "\n",
            "===== 3: Memilih Kolom-Kolom Tertentu =====\n",
            "--- Memilih Kolom yang Relevan untuk Analisis Pertanyaan ---\n",
            "  Jumlah kolom setelah pemilihan: 9 kolom.\n",
            "\n",
            "--- Contoh Baris Setelah Pemilihan Kolom ---\n",
            "                           order_id                       customer_id  \\\n",
            "0  e481f51cbdc54678b7cc49136f2d6af7  9ef432eb6251297304e76186b10a928d   \n",
            "1  e481f51cbdc54678b7cc49136f2d6af7  9ef432eb6251297304e76186b10a928d   \n",
            "2  e481f51cbdc54678b7cc49136f2d6af7  9ef432eb6251297304e76186b10a928d   \n",
            "3  53cdb2fc8bc7dce0b6741e2150273451  b0830fb4747a6c6d20dea0b8c802d7ef   \n",
            "4  47770eb9100c2d0c44946d9cf07ec65d  41ce2a54c0b03bf3443c3d931a367089   \n",
            "\n",
            "                         product_id customer_city customer_state   price  \\\n",
            "0  87285b34884572647811a353c7ac498a     sao paulo             SP   29.99   \n",
            "1  87285b34884572647811a353c7ac498a     sao paulo             SP   29.99   \n",
            "2  87285b34884572647811a353c7ac498a     sao paulo             SP   29.99   \n",
            "3  595fac2a385ac33a80bd5114aec74eb8     barreiras             BA  118.70   \n",
            "4  aa4383b373c6aca5d8797843e5594415    vianopolis             GO  159.90   \n",
            "\n",
            "   freight_value  payment_value  product_category_name  \n",
            "0           8.72          18.12  utilidades_domesticas  \n",
            "1           8.72           2.00  utilidades_domesticas  \n",
            "2           8.72          18.59  utilidades_domesticas  \n",
            "3          22.76         141.46             perfumaria  \n",
            "4          19.22         179.12             automotivo  \n"
          ]
        }
      ],
      "source": [
        "## 3: Memilih Kolom-Kolom Tertentu\n",
        "print(\"\\n\\n===== 3: Memilih Kolom-Kolom Tertentu =====\")\n",
        "print(\"--- Memilih Kolom yang Relevan untuk Analisis Pertanyaan ---\")\n",
        "\n",
        "columns_to_keep = [\n",
        "    'order_id',\n",
        "    'customer_id',\n",
        "    'product_id',\n",
        "    'customer_city',\n",
        "    'customer_state',\n",
        "    'price',\n",
        "    'freight_value',\n",
        "    'payment_value',\n",
        "    'product_category_name'\n",
        "]\n",
        "\n",
        "df_selected = df_merged[columns_to_keep].copy()\n",
        "print(f\"  Jumlah kolom setelah pemilihan: {len(df_selected.columns)} kolom.\")\n",
        "print(\"\\n--- Contoh Baris Setelah Pemilihan Kolom ---\")\n",
        "print(df_selected.head())\n"
      ]
    },
    {
      "cell_type": "markdown",
      "metadata": {
        "id": "MsNHM63AeCOG"
      },
      "source": [
        "1.3.4 Melakukan penghapusan nilai null dan duplikat pada dataset yang sudah digabungkan dan dipilih kolomnya."
      ]
    },
    {
      "cell_type": "code",
      "execution_count": 12,
      "metadata": {
        "colab": {
          "base_uri": "https://localhost:8080/"
        },
        "id": "PC-lHP9eeEo8",
        "outputId": "55d852aa-cc01-40f3-8533-ac5caba1ab6c"
      },
      "outputs": [
        {
          "name": "stdout",
          "output_type": "stream",
          "text": [
            "\n",
            "\n",
            "===== 4: Drop Null Values dan Duplikat =====\n",
            "--- Menangani Nilai Hilang dan Duplikat pada DataFrame Akhir ---\n",
            "  Nilai null di 'product_category_name' diisi dengan 'unknown_category'.\n",
            "  Tidak ada nilai null tersisa di DataFrame setelah pengisian.\n",
            "  Ditemukan 10976 duplikat baris penuh. Dihapus.\n",
            "  Jumlah baris setelah drop duplikat: 104059 (dihapus 10976 baris).\n",
            "\n",
            "--- Info DataFrame Akhir Setelah Semua Proses Cleaning ---\n",
            "<class 'pandas.core.frame.DataFrame'>\n",
            "Index: 104059 entries, 0 to 115034\n",
            "Data columns (total 9 columns):\n",
            " #   Column                 Non-Null Count   Dtype  \n",
            "---  ------                 --------------   -----  \n",
            " 0   order_id               104059 non-null  object \n",
            " 1   customer_id            104059 non-null  object \n",
            " 2   product_id             104059 non-null  object \n",
            " 3   customer_city          104059 non-null  object \n",
            " 4   customer_state         104059 non-null  object \n",
            " 5   price                  104059 non-null  float64\n",
            " 6   freight_value          104059 non-null  float64\n",
            " 7   payment_value          104059 non-null  float64\n",
            " 8   product_category_name  104059 non-null  object \n",
            "dtypes: float64(3), object(6)\n",
            "memory usage: 7.9+ MB\n",
            "Jumlah baris akhir DataFrame bersih: 104059\n"
          ]
        }
      ],
      "source": [
        "## 4: Drop Null Values dan Duplikat pada Dataset Hasil Merge\n",
        "print(\"\\n\\n===== 4: Drop Null Values dan Duplikat =====\")\n",
        "print(\"--- Menangani Nilai Hilang dan Duplikat pada DataFrame Akhir ---\")\n",
        "\n",
        "# 4a. Tangani Missing Values (khususnya untuk 'product_category_name' yang sudah kita identifikasi)\n",
        "initial_nulls_selected = df_selected.isnull().sum().sum()\n",
        "if df_selected['product_category_name'].isnull().sum() > 0:\n",
        "    df_selected['product_category_name'] = df_selected['product_category_name'].fillna('unknown_category')\n",
        "    print(f\"  Nilai null di 'product_category_name' diisi dengan 'unknown_category'.\")\n",
        "else:\n",
        "    print(\"  Tidak ada null di 'product_category_name' setelah merge (sudah ditangani di awal atau tidak ada yang muncul).\")\n",
        "\n",
        "# Pengecekan kembali nilai null di semua kolom setelah pengisian\n",
        "total_nulls_after_fill = df_selected.isnull().sum().sum()\n",
        "if total_nulls_after_fill > 0:\n",
        "    # Jika masih ada null di kolom lain (misalnya dari kolom products lainnya), kita bisa drop barisnya\n",
        "    print(f\"  Masih ada {total_nulls_after_fill} nilai null di kolom lain. Akan dihapus barisnya.\")\n",
        "    rows_before_drop_null = len(df_selected)\n",
        "    df_cleaned = df_selected.dropna().copy()\n",
        "    rows_after_drop_null = len(df_cleaned)\n",
        "    print(f\"  Jumlah baris setelah drop null: {rows_after_drop_null} (dihapus {rows_before_drop_null - rows_after_drop_null} baris).\")\n",
        "else:\n",
        "    print(\"  Tidak ada nilai null tersisa di DataFrame setelah pengisian.\")\n",
        "    df_cleaned = df_selected.copy()\n",
        "\n",
        "# 4b. Tangani Duplikat Baris Penuh\n",
        "initial_duplicates_cleaned = df_cleaned.duplicated().sum()\n",
        "if initial_duplicates_cleaned > 0:\n",
        "    rows_before_drop_dup = len(df_cleaned)\n",
        "    df_cleaned.drop_duplicates(inplace=True)\n",
        "    rows_after_drop_dup = len(df_cleaned)\n",
        "    print(f\"  Ditemukan {initial_duplicates_cleaned} duplikat baris penuh. Dihapus.\")\n",
        "    print(f\"  Jumlah baris setelah drop duplikat: {rows_after_drop_dup} (dihapus {rows_before_drop_dup - rows_after_drop_dup} baris).\")\n",
        "else:\n",
        "    print(\"  Tidak ada duplikat baris penuh di DataFrame akhir.\")\n",
        "\n",
        "\n",
        "print(\"\\n--- Info DataFrame Akhir Setelah Semua Proses Cleaning ---\")\n",
        "df_cleaned.info()\n",
        "print(f\"Jumlah baris akhir DataFrame bersih: {len(df_cleaned)}\")"
      ]
    },
    {
      "cell_type": "markdown",
      "metadata": {
        "id": "gp-Y6wU38DC1"
      },
      "source": [
        "## 2. Exploratory Data Analysis (EDA)"
      ]
    },
    {
      "cell_type": "markdown",
      "metadata": {
        "id": "MW7WF2kr8DC1"
      },
      "source": [
        "### 2.1 Explore: Kota mana yang menghasilkan nilai penjualan tertinggi dan menyumbang setidaknya 10% dari total nilai transaksi penjualan secara keseluruhan?"
      ]
    },
    {
      "cell_type": "code",
      "execution_count": 13,
      "metadata": {
        "colab": {
          "base_uri": "https://localhost:8080/"
        },
        "id": "e9CQCZjk8DC2",
        "outputId": "e324f88e-6720-45a6-c8f4-f1355c4ad24e"
      },
      "outputs": [
        {
          "name": "stdout",
          "output_type": "stream",
          "text": [
            "\n",
            "===== Analisis Pertanyaan 1: Kota dengan Penjualan Tertinggi =====\n",
            "\n",
            "--- Top 10 Kota Berdasarkan Nilai Penjualan ---\n",
            "       customer_city  payment_value  contribution_percentage\n",
            "3563       sao paulo     2259718.93                13.794293\n",
            "3126  rio de janeiro     1167892.93                 7.129319\n",
            "449   belo horizonte      424913.77                 2.593856\n",
            "553         brasilia      372354.14                 2.273009\n",
            "1135        curitiba      249350.02                 1.522139\n",
            "2936    porto alegre      228886.29                 1.397220\n",
            "700         campinas      222302.92                 1.357032\n",
            "3218        salvador      219376.81                 1.339170\n",
            "1518       guarulhos      165479.99                 1.010161\n",
            "2440         niteroi      147965.65                 0.903246\n",
            "\n",
            "--- Kota yang Menyumbang Setidaknya 10% dari Total Penjualan ---\n",
            "     customer_city  payment_value  contribution_percentage\n",
            "3563     sao paulo     2259718.93                13.794293\n",
            "\n",
            "Kota dominan yang akan dianalisis lebih lanjut (untuk pertanyaan 2) adalah: 'sao paulo'\n"
          ]
        }
      ],
      "source": [
        "print(\"\\n===== Analisis Pertanyaan 1: Kota dengan Penjualan Tertinggi =====\")\n",
        "\n",
        "# Hitung total nilai penjualan per kota\n",
        "city_sales = df_cleaned.groupby('customer_city')['payment_value'].sum().reset_index()\n",
        "city_sales = city_sales.sort_values(by='payment_value', ascending=False)\n",
        "\n",
        "# Hitung total penjualan keseluruhan\n",
        "total_overall_sales = df_cleaned['payment_value'].sum()\n",
        "\n",
        "# Hitung persentase kontribusi setiap kota\n",
        "city_sales['contribution_percentage'] = (city_sales['payment_value'] / total_overall_sales) * 100\n",
        "\n",
        "print(\"\\n--- Top 10 Kota Berdasarkan Nilai Penjualan ---\")\n",
        "print(city_sales.head(10))\n",
        "\n",
        "# Identifikasi kota yang menyumbang setidaknya 10% dari total penjualan\n",
        "top_contributing_cities = city_sales[city_sales['contribution_percentage'] >= 10]\n",
        "\n",
        "if not top_contributing_cities.empty:\n",
        "    print(\"\\n--- Kota yang Menyumbang Setidaknya 10% dari Total Penjualan ---\")\n",
        "    print(top_contributing_cities)\n",
        "\n",
        "    # Ambil kota teratas dari yang memenuhi kriteria (jika ada lebih dari satu, ambil yang pertama)\n",
        "    dominant_city = top_contributing_cities.iloc[0]['customer_city']\n",
        "    print(f\"\\nKota dominan yang akan dianalisis lebih lanjut (untuk pertanyaan 2) adalah: '{dominant_city}'\")\n",
        "\n",
        "else:\n",
        "    print(\"\\nTidak ada satu pun kota yang secara individual menyumbang setidaknya 10% dari total penjualan.\")\n",
        "    # Jika tidak ada kota tunggal yang mencapai 10%, kita bisa mengambil kota teratas untuk analisis selanjutnya\n",
        "    dominant_city = city_sales.iloc[0]['customer_city']\n",
        "    print(f\"Mengambil kota dengan penjualan tertinggi sebagai 'kota dominan' untuk pertanyaan 2: '{dominant_city}'\")"
      ]
    },
    {
      "cell_type": "markdown",
      "metadata": {
        "id": "th_Lzl2Fkj9O"
      },
      "source": [
        "**Insight: Explore 1**\n",
        "- Kota denga penjualan tertinggi adalah kota Sao Paulo"
      ]
    },
    {
      "cell_type": "markdown",
      "metadata": {
        "id": "XwalI3wvisJ3"
      },
      "source": [
        "### 2.2 Explore: Di kota tersebut, produk apa yang paling dominan, yaitu yang menyumbang minimal 50% dari total nilai transaksi penjualan di kota tersebut?"
      ]
    },
    {
      "cell_type": "code",
      "execution_count": 14,
      "metadata": {
        "colab": {
          "base_uri": "https://localhost:8080/"
        },
        "id": "oji-NDh5luS3",
        "outputId": "2a78b773-f71a-437e-df57-42100bf12d2a"
      },
      "outputs": [
        {
          "name": "stdout",
          "output_type": "stream",
          "text": [
            "\n",
            "===== Analisis Pertanyaan 2: Produk Dominan di Kota 'sao paulo' =====\n",
            "\n",
            "--- Top 10 Produk Berdasarkan Nilai Penjualan di 'sao paulo' ---\n",
            "     product_category_name  payment_value  contribution_percentage\n",
            "13         cama_mesa_banho      234867.70                10.393669\n",
            "11            beleza_saude      218696.92                 9.678059\n",
            "65      relogios_presentes      178998.38                 7.921267\n",
            "44  informatica_acessorios      171839.08                 7.604445\n",
            "32           esporte_lazer      166214.29                 7.355529\n",
            "54        moveis_decoracao      133450.17                 5.905609\n",
            "71   utilidades_domesticas      131247.22                 5.808121\n",
            "12              brinquedos       81441.31                 3.604046\n",
            "26              cool_stuff       74310.52                 3.288485\n",
            "61              perfumaria       68904.99                 3.049273\n",
            "\n",
            "Tidak ada satu pun produk yang secara individual menyumbang setidaknya 50% dari total penjualan di 'sao paulo'.\n"
          ]
        }
      ],
      "source": [
        "## Pertanyaan 2: Produk Paling Dominan di Kota yang Ditemukan\n",
        "\n",
        "print(f\"\\n===== Analisis Pertanyaan 2: Produk Dominan di Kota '{dominant_city}' =====\")\n",
        "\n",
        "# Filter data untuk kota dominan yang telah ditemukan\n",
        "df_dominant_city = df_cleaned[df_cleaned['customer_city'] == dominant_city].copy()\n",
        "\n",
        "# Pastikan ada data untuk kota tersebut\n",
        "if df_dominant_city.empty:\n",
        "    print(f\"Tidak ada data transaksi untuk kota '{dominant_city}' setelah filtering. Cek data atau nama kota.\")\n",
        "else:\n",
        "    # Hitung total nilai penjualan per kategori produk di kota dominan\n",
        "    product_sales_in_dominant_city = df_dominant_city.groupby('product_category_name')['payment_value'].sum().reset_index()\n",
        "    product_sales_in_dominant_city = product_sales_in_dominant_city.sort_values(by='payment_value', ascending=False)\n",
        "\n",
        "    # Hitung total penjualan di kota dominan\n",
        "    total_sales_in_dominant_city = df_dominant_city['payment_value'].sum()\n",
        "\n",
        "    # Hitung persentase kontribusi setiap produk di kota dominan\n",
        "    product_sales_in_dominant_city['contribution_percentage'] = \\\n",
        "        (product_sales_in_dominant_city['payment_value'] / total_sales_in_dominant_city) * 100\n",
        "\n",
        "    print(f\"\\n--- Top 10 Produk Berdasarkan Nilai Penjualan di '{dominant_city}' ---\")\n",
        "    print(product_sales_in_dominant_city.head(10))\n",
        "\n",
        "    # Identifikasi produk yang menyumbang setidaknya 50% dari total penjualan di kota dominan\n",
        "    dominant_products_in_city = product_sales_in_dominant_city[\n",
        "        product_sales_in_dominant_city['contribution_percentage'] >= 50\n",
        "    ]\n",
        "\n",
        "    if not dominant_products_in_city.empty:\n",
        "        print(f\"\\n--- Produk yang Menyumbang Setidaknya 50% dari Total Penjualan di '{dominant_city}' ---\")\n",
        "        print(dominant_products_in_city)\n",
        "    else:\n",
        "        print(f\"\\nTidak ada satu pun produk yang secara individual menyumbang setidaknya 50% dari total penjualan di '{dominant_city}'.\")"
      ]
    },
    {
      "cell_type": "markdown",
      "metadata": {
        "id": "0W0jtMfai4Vg"
      },
      "source": [
        "**Insight: Explore 2**\n",
        "- Tidak ada satu pun produk yang secara individual menyumbang setidaknya 50% dari total penjualan pada kota Sao Paulo.\n",
        "- Untuk produk dengan penjualan tertinggi adalah \"Cama Mesa Banho\"."
      ]
    },
    {
      "cell_type": "markdown",
      "metadata": {
        "id": "zsyZjqak8DC2"
      },
      "source": [
        "## 3. Visualization & Explanatory Analysis"
      ]
    },
    {
      "cell_type": "markdown",
      "metadata": {
        "id": "HZxOiQ6n8DC2"
      },
      "source": [
        "### 3.1 Pertanyaan 1: Kota mana yang menghasilkan nilai penjualan tertinggi dan menyumbang setidaknya 10% dari total nilai transaksi penjualan secara keseluruhan?"
      ]
    },
    {
      "cell_type": "code",
      "execution_count": 15,
      "metadata": {
        "colab": {
          "base_uri": "https://localhost:8080/",
          "height": 1000
        },
        "id": "1swJUdAD8DC2",
        "outputId": "1c091965-41ac-4cfa-8708-88580cc1ede0"
      },
      "outputs": [
        {
          "data": {
            "image/png": "[encoded data removed]",
            "text/plain": [
              "<Figure size 1200x600 with 1 Axes>"
            ]
          },
          "metadata": {},
          "output_type": "display_data"
        },
        {
          "data": {
            "image/png": "[encoded data removed]",
            "text/plain": [
              "<Figure size 1200x600 with 1 Axes>"
            ]
          },
          "metadata": {},
          "output_type": "display_data"
        }
      ],
      "source": [
        "# --- Visualisasi 1: Top 10 Kota Berdasarkan Nilai Penjualan Tertinggi ---\n",
        "plt.figure(figsize=(12, 6))\n",
        "sns.barplot(x='customer_city', y='payment_value', data=city_sales.head(10), hue='customer_city', palette='viridis', legend=False)\n",
        "plt.title('Top 10 Kota Berdasarkan Nilai Penjualan')\n",
        "plt.xlabel('Kota Pelanggan')\n",
        "plt.ylabel('Total Nilai Penjualan')\n",
        "plt.ticklabel_format(style='plain', axis='y')\n",
        "plt.xticks(rotation=45, ha='right')\n",
        "plt.tight_layout()\n",
        "plt.show()\n",
        "\n",
        "# Visualisasi Kumulatif Kontribusi (ini tetap berguna untuk melihat akumulasi persentase)\n",
        "plt.figure(figsize=(12, 6))\n",
        "city_sales['cumulative_contribution'] = city_sales['contribution_percentage'].cumsum()\n",
        "sns.lineplot(x=range(len(city_sales)), y='cumulative_contribution', data=city_sales)\n",
        "plt.axhline(y=10, color='r', linestyle='--', label='10% Threshold')\n",
        "plt.title('Kontribusi Penjualan Kumulatif per Kota (Diurutkan)')\n",
        "plt.xlabel('Peringkat Kota')\n",
        "plt.ylabel('Kontribusi Kumulatif (%)')\n",
        "plt.grid(True)\n",
        "plt.legend()\n",
        "plt.show()"
      ]
    },
    {
      "cell_type": "markdown",
      "metadata": {
        "id": "DgHI7CiU8DC2"
      },
      "source": [
        "### 3.2 Pertanyaan 2: Di kota tersebut, produk apa yang paling dominan, yaitu yang menyumbang minimal 50% dari total nilai transaksi penjualan di kota tersebut?"
      ]
    },
    {
      "cell_type": "code",
      "execution_count": 16,
      "metadata": {
        "colab": {
          "base_uri": "https://localhost:8080/",
          "height": 651
        },
        "id": "Go0lCsvO8DC2",
        "outputId": "4d16fa92-12b9-45ff-c2d5-bbb6e220e9ec"
      },
      "outputs": [
        {
          "data": {
            "image/png": "[encoded data removed]",
            "text/plain": [
              "<Figure size 1400x700 with 1 Axes>"
            ]
          },
          "metadata": {},
          "output_type": "display_data"
        }
      ],
      "source": [
        "# Visualisasi Kontribusi Produk di Kota Dominan\n",
        "plt.figure(figsize=(14, 7))\n",
        "# Perbaikan: Tambahkan hue='product_category_name' dan legend=False\n",
        "sns.barplot(x='product_category_name', y='contribution_percentage',\n",
        "            data=product_sales_in_dominant_city.head(10), hue='product_category_name', palette='magma', legend=False)\n",
        "plt.title(f'Top 10 Kategori Produk Berdasarkan Kontribusi Penjualan di {dominant_city}')\n",
        "plt.xlabel('Kategori Produk')\n",
        "plt.ylabel('Persentase Kontribusi (%)')\n",
        "plt.xticks(rotation=45, ha='right')\n",
        "plt.tight_layout()\n",
        "plt.show()"
      ]
    },
    {
      "cell_type": "markdown",
      "metadata": {
        "id": "-TUTN9VR-pft"
      },
      "source": []
    },
    {
      "cell_type": "markdown",
      "metadata": {
        "id": "_WeHlCeX8DC2"
      },
      "source": [
        "## Conclusion"
      ]
    },
    {
      "cell_type": "markdown",
      "metadata": {
        "id": "ZTcyR48Y8DC2"
      },
      "source": [
        "- Conclution pertanyaan 1:\n",
        "\n",
        "  Dari hasil analisis, terlihat bahwa Sao Paulo adalah kota dengan kinerja penjualan tertinggi, menyumbang 13.79% dari total nilai transaksi penjualan secara keseluruhan. Ini menjadikannya satu-satunya kota yang memenuhi kriteria kontribusi minimal 10%.\n",
        "\n",
        "- Conclution pertanyaan 2:\n",
        "\n",
        "  Meskipun Sao Paulo adalah kota dengan penjualan tertinggi, tidak ada satu pun kategori produk yang secara individual mendominasi pasar di sana. Tidak ada produk yang menyumbang minimal 50% dari total nilai transaksi penjualan di Sao Paulo. Kategori produk teratas adalah \"cama_mesa_banho\" dengan kontribusi 10.39%, diikuti oleh \"beleza_saude\" dengan 9.68%. Hal ini mengindikasikan bahwa pasar produk di Sao Paulo sangat beragam dan tidak terlalu bergantung pada satu jenis produk tertentu."
      ]
    }
  ],
  "metadata": {
    "colab": {
      "provenance": []
    },
    "kernelspec": {
      "display_name": "Python 3",
      "language": "python",
      "name": "python3"
    },
    "language_info": {
      "codemirror_mode": {
        "name": "ipython",
        "version": 3
      },
      "file_extension": ".py",
      "mimetype": "text/x-python",
      "name": "python",
      "nbconvert_exporter": "python",
      "pygments_lexer": "ipython3",
      "version": "3.12.4"
    },
    "orig_nbformat": 4
  },
  "nbformat": 4,
  "nbformat_minor": 0
}
